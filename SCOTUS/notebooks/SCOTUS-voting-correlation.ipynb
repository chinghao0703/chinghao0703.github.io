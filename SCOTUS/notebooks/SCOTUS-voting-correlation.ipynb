{
 "cells": [
  {
   "cell_type": "markdown",
   "metadata": {},
   "source": [
    "## SCOTUS justices voting pattern\n",
    "\n",
    "Here I compare the voting pattern of justices in the Roberts court (2005 to the 2017 term). Note that the 2017 term ends in June 2018. This data is publicly available at [SCOTUS database](http://scdb.wustl.edu/) provided by the Washington University of Law. Specifically, I looked at the [Modern Database:2018 Release 2--Justice Centered data](http://scdb.wustl.edu/_brickFiles/2018_02/SCDB_2018_02_justiceCentered_LegalProvision.csv.zip). For the purpose of this analysis, I only pay attention to the following attributes:"
   ]
  },
  {
   "cell_type": "markdown",
   "metadata": {},
   "source": [
    "## Key attributes\n",
    "\n",
    "### Chief justice:\n",
    "The variable *chief* identifies the chief justice during whose tenure the case was decided.\tThe chief justices documented in this datasets are:\n",
    "   * 1\tJay\n",
    "   * 2\tRutledge\n",
    "   * 3\tEllsworth\n",
    "   * 4\tMarshall\n",
    "   * 5\tTaney\n",
    "   * 6\tChase\n",
    "   * 7\tWaite\n",
    "   * 8\tFuller\n",
    "   * 9\tWhite\n",
    "   * 10\tTaft\n",
    "   * 11\tHughes\n",
    "   * 12\tStone\n",
    "   * 13\tVinson\n",
    "   * 14\tWarren\n",
    "   * 15\tBurger\n",
    "   * 16\tRehnquist\n",
    "   * 17\tRoberts\n",
    "\n",
    "### Vote\n",
    "Encoded in the variable named *vote* that takes value between 1 and 8 with the following meaning.\n",
    "   * 1: voted with majority or plurality\n",
    "   * 2: dissent\n",
    "   * 3: regular concurrence\n",
    "   * 4: special concurrence\n",
    "   * 5: judgment of the Court\n",
    "   * 6: dissent from a denial or dismissal of certiorari , or dissent from summary affirmation of an appeal\n",
    "   * 7: jurisdictional dissent\n",
    "   * 8: justice participated in an equally divided vote\n",
    "\n",
    "Note that for the purpose the following anaysis, I aggregated case 1, 3, 4, 5 into a single variable *1* indicating majority while 2,6,7 into *2* indicating dissent. I left case 8 unspecified due to the ambiguity detailed in the documentation of this database. Note that a regular concurrence is when the justice agrees with the Court's opinion as well as its disposition. A special concurence (i.e., a concurence in the judgment) is when the justice agrees with the Court's disposition but not its opinion. A jurisdictional dissent is when the justice disagrees with the Court's assertion or denial of jurisdiction. Such votes are counted as nonparticipations. \n",
    "\n",
    "### Case name:\n",
    "Encoded in the variable named *caseName* which is of string type.\n",
    "\n",
    "\n",
    "### Justice name:\n",
    "Encoded in the variable named *justiceName*. In the following analysis, I focused on the Roberts' court (2005 to present). Although some currently sitting justices were also part of Rehnquist's count, those tend to have less overlap with others on the Robert's court. For this reason, I choose Robert's court for the analysis. Among these, I purged Justice J.P. Stevens and S.D. O'Connor since they have little overlap with currently sitting ones. This boils down to the following justices: \n",
    "\n",
    " 'AScalia', 'AMKennedy', 'DHSouter',\n",
    "       'CThomas', 'RBGinsburg', 'SGBreyer', 'JGRoberts', 'SAAlito',\n",
    "       'SSotomayor', 'EKagan', 'NMGorsuch'\n",
    "\n",
    "Note that justice B.M. Kavanaugh is not included in this dataset since it only contains up to the 2017-2018 term, with the last case named *SEXTON v. BEAUDREAUX* decided on June 28, 2018\n",
    "\n",
    "### Case area:\n",
    "\n",
    "Vaiable *issueArea* categorizes the case into the following sometime over- and under-specified areas.\n",
    "\n",
    "   * 1: Criminal procedure\n",
    "   * 2: Civil rights\n",
    "   * 3: First Amendment\n",
    "   * 4: Due process\n",
    "   * 5: Privacy\n",
    "   * 6: Attorneys' or governmental officials' fees or compensation\n",
    "   * 7: Unions\n",
    "   * 8: Economic activity\n",
    "   * 9: Judicial power\n",
    "   * 10: Federalism\n",
    "   * 11: Interstate relation\n",
    "   * 12: Federal taxation\n",
    "   * 13: Miscellaneous\n",
    "   * 14: Private law"
   ]
  },
  {
   "cell_type": "markdown",
   "metadata": {},
   "source": [
    "By trimming the dataset down to the Roberts count and keep only attributes mentioned above plus some metadata (e.g. case decision date, whether the case declared the case being heard unconstitutional etc.), I got the dataset named *SCDB_2018_02_Roberts_new.csv*. You can download this trimmed dataset from my [Dropbox](https://www.dropbox.com/s/0makeeadk3pwvdh/SCDB_2018_02_Roberts_new.csv?dl=0)."
   ]
  },
  {
   "cell_type": "code",
   "execution_count": 1,
   "metadata": {},
   "outputs": [],
   "source": [
    "import pandas as pd\n",
    "import seaborn as sns\n",
    "import chardet\n",
    "import numpy as np\n",
    "import matplotlib.pyplot as plt\n",
    "\n",
    "\n",
    "\n",
    "%matplotlib inline\n",
    "\n",
    "\n",
    "\n",
    "\n",
    "dfr = pd.read_csv('SCDB_2018_02_Roberts_new.csv', encoding = 'Latin-1')\n",
    "\n",
    "def make_fig(df, area):\n",
    "    \n",
    "    corr = df.corr()\n",
    "    fig = plt.figure()\n",
    "    if area == 1:\n",
    "        title_str = 'Criminal_Procedure'\n",
    "    elif area == 2:\n",
    "        title_str = 'Civil_Rights'\n",
    "    elif area == 3:\n",
    "        title_str = '1st_Amendment'\n",
    "    elif area == 4:\n",
    "        title_str = 'Due_Process'\n",
    "    elif area == 5:\n",
    "        title_str = 'Privacy'\n",
    "    elif area == 6:\n",
    "        title_str = 'Attorneys'\n",
    "    elif area == 7:\n",
    "        title_str = 'Unions'\n",
    "    elif area == 8:\n",
    "        title_str = 'Economic_Activity'\n",
    "    elif area == 9:\n",
    "        title_str = 'Judicial_Power'\n",
    "    elif area == 10:\n",
    "        title_str = 'Federalism'\n",
    "    elif area == 11:\n",
    "        title_str = 'Interstate_Relations'\n",
    "    elif area == 12:\n",
    "        title_str = 'Federal_Taxation'\n",
    "    elif area == 13:\n",
    "        title_str = 'Miscellaneous'\n",
    "    elif area == 14:\n",
    "        title_str = 'Private_action'\n",
    "    else:\n",
    "        title_str = 'Others' \n",
    "    \n",
    "    title_str = 'corr_' + title_str\n",
    "    sns.heatmap(corr, \n",
    "            xticklabels=corr.columns,\n",
    "            yticklabels=corr.columns, cmap=\"YlGnBu\")\n",
    "    plt.title(title_str, fontsize = 14)\n",
    "    fig.savefig(title_str + '.pdf',bbox_inches='tight')\n",
    "    fig.savefig(title_str + '.png',bbox_inches='tight')"
   ]
  },
  {
   "cell_type": "code",
   "execution_count": 2,
   "metadata": {},
   "outputs": [
    {
     "data": {
      "text/plain": [
       "array(['JPStevens', 'SDOConnor', 'AScalia', 'AMKennedy', 'DHSouter',\n",
       "       'CThomas', 'RBGinsburg', 'SGBreyer', 'JGRoberts', 'SAAlito',\n",
       "       'SSotomayor', 'EKagan', 'NMGorsuch'], dtype=object)"
      ]
     },
     "execution_count": 2,
     "metadata": {},
     "output_type": "execute_result"
    }
   ],
   "source": [
    "justice = dfr.justiceName.unique()\n",
    "justice"
   ]
  },
  {
   "cell_type": "code",
   "execution_count": 4,
   "metadata": {},
   "outputs": [
    {
     "data": {
      "text/plain": [
       "array([ 1.,  2.,  9.,  7.,  8.,  6., 10.,  5.,  3., 11.,  4., 12., nan,\n",
       "       13., 14.])"
      ]
     },
     "execution_count": 4,
     "metadata": {},
     "output_type": "execute_result"
    }
   ],
   "source": [
    "#Here purge JPStevens and SDOConnor\n",
    "justice = np.array(['AScalia', 'AMKennedy','CThomas', 'RBGinsburg', 'SGBreyer', \n",
    "                    'JGRoberts', 'SAAlito','SSotomayor', 'EKagan', 'NMGorsuch'], dtype=object)\n",
    "case = dfr.caseName.unique()\n",
    "area = dfr.issueArea.unique()\n",
    "area"
   ]
  },
  {
   "cell_type": "code",
   "execution_count": 5,
   "metadata": {},
   "outputs": [
    {
     "data": {
      "image/png": "[encoded data removed]",
      "text/plain": [
       "<Figure size 432x288 with 2 Axes>"
      ]
     },
     "metadata": {
      "needs_background": "light"
     },
     "output_type": "display_data"
    }
   ],
   "source": [
    "# To choose one particular area, one can just specify it as an array: e.g. civial rights\n",
    "area = np.array([2])\n",
    "for are in area:\n",
    "    df = pd.DataFrame(np.zeros([case.shape[0], justice.shape[0]]), columns=list(justice), index = list(case))\n",
    "    for jus in justice:\n",
    "        for cas in case:\n",
    "            entry = (dfr['justiceName'] == jus) & (dfr['caseName'] == cas) & (dfr['issueArea'] == are)\n",
    "            s= dfr.loc[entry,'vote']\n",
    "            if s.shape[0] == 0:\n",
    "                df.loc[cas, jus] =  float('nan')\n",
    "            else:\n",
    "                if s.iloc[0] == 1 or s.iloc[0] ==3 or s.iloc[0] ==4 or s.iloc[0] ==5:\n",
    "                    df.loc[cas, jus] = 1\n",
    "                elif s.iloc[0] == 2 or s.iloc[0] == 6 or s.iloc[0] == 7:\n",
    "                    df.loc[cas, jus] = 2\n",
    "                else:\n",
    "                    df.loc[cas, jus] = float('nan')\n",
    "    make_fig(df, are)\n"
   ]
  },
  {
   "cell_type": "markdown",
   "metadata": {},
   "source": [
    "One can also show the aggregated result by not specifying the issueArea:"
   ]
  },
  {
   "cell_type": "code",
   "execution_count": 7,
   "metadata": {},
   "outputs": [
    {
     "data": {
      "image/png": "[encoded data removed]",
      "text/plain": [
       "<Figure size 432x288 with 2 Axes>"
      ]
     },
     "metadata": {
      "needs_background": "light"
     },
     "output_type": "display_data"
    }
   ],
   "source": [
    "for jus in justice:\n",
    "    for cas in case:\n",
    "        entry = (dfr['justiceName'] == jus) & (dfr['caseName'] == cas)\n",
    "        s= dfr.loc[entry,'vote']\n",
    "        if s.shape[0] == 0:\n",
    "            df.loc[cas, jus] =  float('nan')\n",
    "        else:\n",
    "            if s.iloc[0] == 1 or s.iloc[0] ==3 or s.iloc[0] ==4 or s.iloc[0] ==5:\n",
    "                df.loc[cas, jus] = 1\n",
    "            elif s.iloc[0] == 2 or s.iloc[0] == 6 or s.iloc[0] == 7:\n",
    "                df.loc[cas, jus] = 2\n",
    "            else:\n",
    "                df.loc[cas, jus] = float('nan')\n",
    "                \n",
    "corr = df.corr()\n",
    "fig = plt.figure()\n",
    "sns.heatmap(corr, \n",
    "        xticklabels=corr.columns,\n",
    "        yticklabels=corr.columns, cmap=\"YlGnBu\")\n",
    "plt.title('All areas', fontsize = 14)\n",
    "fig.savefig('corr.pdf',bbox_inches='tight')\n",
    "fig.savefig('corr.png',bbox_inches='tight')            "
   ]
  },
  {
   "cell_type": "markdown",
   "metadata": {},
   "source": [
    "One can also visualize the dataset used to calculate the correlation matrix and save it as an csv file for future convenience: "
   ]
  },
  {
   "cell_type": "code",
   "execution_count": 8,
   "metadata": {},
   "outputs": [],
   "source": [
    "df\n",
    "df.to_csv('SCDB_2018_02_Roberts_vote.csv', index=False)"
   ]
  },
  {
   "cell_type": "code",
   "execution_count": null,
   "metadata": {},
   "outputs": [],
   "source": []
  }
 ],
 "metadata": {
  "kernelspec": {
   "display_name": "Python 3",
   "language": "python",
   "name": "python3"
  },
  "language_info": {
   "codemirror_mode": {
    "name": "ipython",
    "version": 3
   },
   "file_extension": ".py",
   "mimetype": "text/x-python",
   "name": "python",
   "nbconvert_exporter": "python",
   "pygments_lexer": "ipython3",
   "version": "3.6.8"
  }
 },
 "nbformat": 4,
 "nbformat_minor": 2
}
